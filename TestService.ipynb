{
 "cells": [
  {
   "cell_type": "code",
   "execution_count": 1,
   "id": "187bc124-07af-4a44-8d2e-c9906b4eaf8e",
   "metadata": {},
   "outputs": [],
   "source": [
    "import requests\n",
    "import base64\n",
    "from io import BytesIO\n",
    "from sklearn.metrics import accuracy_score"
   ]
  },
  {
   "cell_type": "code",
   "execution_count": 2,
   "id": "4813218d-3de2-42fa-99dc-2f798dd56189",
   "metadata": {},
   "outputs": [],
   "source": [
    "with open(r'test\\tmp.txt', 'r') as file:\n",
    "    binary_file = file.read().encode('utf-8')"
   ]
  },
  {
   "cell_type": "code",
   "execution_count": 3,
   "id": "8819d0e0-4407-4c54-96d2-0dc3f0bd0c83",
   "metadata": {},
   "outputs": [],
   "source": [
    "base64_str = base64.b64encode(binary_file).decode('utf-8')"
   ]
  },
  {
   "cell_type": "code",
   "execution_count": 55,
   "id": "0d43a03d-df24-434c-96e4-33d5ce890e31",
   "metadata": {},
   "outputs": [],
   "source": [
    "response = requests.post('http://127.0.0.1:8000/predict', json={\"file\": base64_str})\n",
    "data = response.json()\n",
    "answers, corrects, incorrects = data['answers'], data['corrects'], data['incorrects']"
   ]
  },
  {
   "cell_type": "code",
   "execution_count": 56,
   "id": "a0ede9c1-f9a9-49f4-8a0f-146d3bf36428",
   "metadata": {},
   "outputs": [],
   "source": [
    "preds = list(answers.values())"
   ]
  },
  {
   "cell_type": "code",
   "execution_count": 59,
   "metadata": {},
   "outputs": [],
   "source": [
    "true_labels = []\n",
    "with open(r'test\\tmp_labels.txt', 'r') as f:\n",
    "    for line in f:\n",
    "        label = int(line.split(' ')[1])\n",
    "        true_labels.append(label)"
   ]
  },
  {
   "cell_type": "code",
   "execution_count": 60,
   "metadata": {},
   "outputs": [
    {
     "output_type": "execute_result",
     "data": {
      "text/plain": [
       "0.95"
      ]
     },
     "metadata": {},
     "execution_count": 60
    }
   ],
   "source": [
    "accuracy_score(true_labels, preds)"
   ]
  },
  {
   "cell_type": "code",
   "execution_count": 50,
   "metadata": {},
   "outputs": [],
   "source": [
    "def str_to_base64(str_file):\n",
    "    return base64.b64encode(str_file.encode('utf-8'))\n",
    "\n",
    "def make_files(base64_str, answers):\n",
    "    str_file = base64.b64decode(base64_str).decode('utf-8')\n",
    "    correct = ''\n",
    "    incorrect = ''\n",
    "    for line in str_file.split('\\n'):\n",
    "        track_id = line.split(\" \")[1][1:-1]\n",
    "        if answers[track_id] == 0:\n",
    "            correct += line+'\\n'\n",
    "        else:\n",
    "            incorrect += line+'\\n'\n",
    "\n",
    "    correct = correct.strip()\n",
    "    incorrect = incorrect.strip()\n",
    "    \n",
    "    return (answers, str_to_base64(correct), str_to_base64(incorrect))"
   ]
  },
  {
   "cell_type": "code",
   "execution_count": 51,
   "metadata": {},
   "outputs": [],
   "source": [
    "answers, corrects, incorrect = make_files(base64_str, answers)"
   ]
  },
  {
   "cell_type": "code",
   "execution_count": null,
   "metadata": {},
   "outputs": [],
   "source": []
  }
 ],
 "metadata": {
  "kernelspec": {
   "name": "venv",
   "display_name": "Python 3.7.9 64-bit"
  },
  "language_info": {
   "codemirror_mode": {
    "name": "ipython",
    "version": 3
   },
   "file_extension": ".py",
   "mimetype": "text/x-python",
   "name": "python",
   "nbconvert_exporter": "python",
   "pygments_lexer": "ipython3",
   "version": "3.7.9"
  }
 },
 "nbformat": 4,
 "nbformat_minor": 5
}