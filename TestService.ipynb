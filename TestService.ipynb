{
 "cells": [
  {
   "cell_type": "code",
   "execution_count": 1,
   "id": "187bc124-07af-4a44-8d2e-c9906b4eaf8e",
   "metadata": {},
   "outputs": [],
   "source": [
    "import requests\n",
    "import base64\n",
    "from io import BytesIO"
   ]
  },
  {
   "cell_type": "code",
   "execution_count": 2,
   "id": "4813218d-3de2-42fa-99dc-2f798dd56189",
   "metadata": {},
   "outputs": [],
   "source": [
    "with open(r'test\\test copy.txt', 'r') as file:\n",
    "    binary_file = file.read().encode('utf-8')"
   ]
  },
  {
   "cell_type": "code",
   "execution_count": 8,
   "id": "8819d0e0-4407-4c54-96d2-0dc3f0bd0c83",
   "metadata": {},
   "outputs": [],
   "source": [
    "base64_str = base64.b64encode(binary_file).decode('utf-8')"
   ]
  },
  {
   "cell_type": "code",
   "execution_count": 12,
   "id": "0d43a03d-df24-434c-96e4-33d5ce890e31",
   "metadata": {},
   "outputs": [
    {
     "output_type": "execute_result",
     "data": {
      "text/plain": [
       "{'8': 1, '9': 0, '18': 1, '34': 1, '35': 1, '38': 1, '44': 1}"
      ]
     },
     "metadata": {},
     "execution_count": 12
    }
   ],
   "source": [
    "response = requests.post('http://127.0.0.1:8000/predict', json={\"file\": base64_str})\n",
    "answers = response.json()['answers']\n",
    "answers"
   ]
  },
  {
   "cell_type": "code",
   "execution_count": null,
   "id": "a0ede9c1-f9a9-49f4-8a0f-146d3bf36428",
   "metadata": {},
   "outputs": [],
   "source": []
  }
 ],
 "metadata": {
  "kernelspec": {
   "name": "python379jvsc74a57bd075aa73c79266d4692a2df8ead62ea8bbacfe1ac0263c8d6d94a969dc4efeff59",
   "display_name": "Python 3.7.9 64-bit"
  },
  "language_info": {
   "codemirror_mode": {
    "name": "ipython",
    "version": 3
   },
   "file_extension": ".py",
   "mimetype": "text/x-python",
   "name": "python",
   "nbconvert_exporter": "python",
   "pygments_lexer": "ipython3",
   "version": "3.7.9"
  }
 },
 "nbformat": 4,
 "nbformat_minor": 5
}