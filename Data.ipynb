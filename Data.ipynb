{
 "cells": [
  {
   "cell_type": "code",
   "execution_count": 46,
   "metadata": {},
   "outputs": [],
   "source": [
    "import pandas as pd\n",
    "import os\n",
    "import numpy as np\n",
    "import matplotlib.pyplot as plt\n",
    "import math\n",
    "\n",
    "%matplotlib inline"
   ]
  },
  {
   "cell_type": "code",
   "execution_count": 42,
   "metadata": {},
   "outputs": [],
   "source": [
    "def time_to_seconds(time: str) -> int:\n",
    "    h, m, s = map(int, time.split(':'))\n",
    "    return s + m*60 + h*3600"
   ]
  },
  {
   "cell_type": "code",
   "execution_count": 51,
   "metadata": {},
   "outputs": [],
   "source": [
    "def calc_angle(x1, y1, x2, y2, x3, y3):\n",
    "    v1 = ((x2-x1), (y2-y1))\n",
    "    v2 = ((x3-x2), (y3-y2))\n",
    "    sqrt1, sqrt2 = np.sqrt([v1[0]**2+v1[1]**2, v2[0]**2+v2[1]**2])\n",
    "    cos = (v1[0]*v2[0] + v1[1]*v2[1]) / (sqrt1*sqrt2)\n",
    "    return (cos + 1) / 2"
   ]
  },
  {
   "cell_type": "code",
   "execution_count": 3,
   "metadata": {},
   "outputs": [],
   "source": [
    "path = 'data\\BadTracksHackaton1801.txt'"
   ]
  },
  {
   "cell_type": "code",
   "execution_count": 4,
   "metadata": {},
   "outputs": [],
   "source": [
    "data = pd.read_csv(path, sep=' ', header=None, names=['time', 'id', 'latitude', 'longitude', 'elevation', 'code', 'name'])"
   ]
  },
  {
   "cell_type": "code",
   "execution_count": 5,
   "metadata": {},
   "outputs": [
    {
     "data": {
      "text/html": [
       "<div>\n",
       "<style scoped>\n",
       "    .dataframe tbody tr th:only-of-type {\n",
       "        vertical-align: middle;\n",
       "    }\n",
       "\n",
       "    .dataframe tbody tr th {\n",
       "        vertical-align: top;\n",
       "    }\n",
       "\n",
       "    .dataframe thead th {\n",
       "        text-align: right;\n",
       "    }\n",
       "</style>\n",
       "<table border=\"1\" class=\"dataframe\">\n",
       "  <thead>\n",
       "    <tr style=\"text-align: right;\">\n",
       "      <th></th>\n",
       "      <th>time</th>\n",
       "      <th>id</th>\n",
       "      <th>latitude</th>\n",
       "      <th>longitude</th>\n",
       "      <th>elevation</th>\n",
       "      <th>code</th>\n",
       "      <th>name</th>\n",
       "    </tr>\n",
       "  </thead>\n",
       "  <tbody>\n",
       "    <tr>\n",
       "      <th>0</th>\n",
       "      <td>0:00:01</td>\n",
       "      <td>8</td>\n",
       "      <td>49.722522</td>\n",
       "      <td>40.308650</td>\n",
       "      <td>11567</td>\n",
       "      <td>1025.0</td>\n",
       "      <td>TUM9102</td>\n",
       "    </tr>\n",
       "    <tr>\n",
       "      <th>1</th>\n",
       "      <td>0:00:11</td>\n",
       "      <td>8</td>\n",
       "      <td>49.737334</td>\n",
       "      <td>40.285857</td>\n",
       "      <td>11567</td>\n",
       "      <td>1025.0</td>\n",
       "      <td>TUM9102</td>\n",
       "    </tr>\n",
       "    <tr>\n",
       "      <th>2</th>\n",
       "      <td>0:00:21</td>\n",
       "      <td>8</td>\n",
       "      <td>49.752375</td>\n",
       "      <td>40.264201</td>\n",
       "      <td>11567</td>\n",
       "      <td>1025.0</td>\n",
       "      <td>TUM9102</td>\n",
       "    </tr>\n",
       "    <tr>\n",
       "      <th>3</th>\n",
       "      <td>0:00:31</td>\n",
       "      <td>8</td>\n",
       "      <td>49.767809</td>\n",
       "      <td>40.243869</td>\n",
       "      <td>11567</td>\n",
       "      <td>1025.0</td>\n",
       "      <td>TUM9102</td>\n",
       "    </tr>\n",
       "    <tr>\n",
       "      <th>4</th>\n",
       "      <td>0:00:41</td>\n",
       "      <td>8</td>\n",
       "      <td>49.785372</td>\n",
       "      <td>40.222412</td>\n",
       "      <td>11575</td>\n",
       "      <td>1025.0</td>\n",
       "      <td>TUM9102</td>\n",
       "    </tr>\n",
       "  </tbody>\n",
       "</table>\n",
       "</div>"
      ],
      "text/plain": [
       "      time  id   latitude  longitude  elevation    code     name\n",
       "0  0:00:01   8  49.722522  40.308650      11567  1025.0  TUM9102\n",
       "1  0:00:11   8  49.737334  40.285857      11567  1025.0  TUM9102\n",
       "2  0:00:21   8  49.752375  40.264201      11567  1025.0  TUM9102\n",
       "3  0:00:31   8  49.767809  40.243869      11567  1025.0  TUM9102\n",
       "4  0:00:41   8  49.785372  40.222412      11575  1025.0  TUM9102"
      ]
     },
     "execution_count": 5,
     "metadata": {},
     "output_type": "execute_result"
    }
   ],
   "source": [
    "data.head()"
   ]
  },
  {
   "cell_type": "code",
   "execution_count": 62,
   "metadata": {},
   "outputs": [],
   "source": [
    "grouped = data.groupby('id')"
   ]
  },
  {
   "cell_type": "code",
   "execution_count": null,
   "metadata": {},
   "outputs": [],
   "source": []
  }
 ],
 "metadata": {
  "kernelspec": {
   "display_name": "venv",
   "language": "python",
   "name": "venv"
  },
  "language_info": {
   "codemirror_mode": {
    "name": "ipython",
    "version": 3
   },
   "file_extension": ".py",
   "mimetype": "text/x-python",
   "name": "python",
   "nbconvert_exporter": "python",
   "pygments_lexer": "ipython3",
   "version": "3.7.9"
  }
 },
 "nbformat": 4,
 "nbformat_minor": 4
}
