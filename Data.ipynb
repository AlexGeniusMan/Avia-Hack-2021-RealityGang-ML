{
 "cells": [
  {
   "cell_type": "code",
   "execution_count": 64,
   "metadata": {},
   "outputs": [],
   "source": [
    "import pandas as pd\n",
    "import os\n",
    "import numpy as np\n",
    "import matplotlib.pyplot as plt\n",
    "import math\n",
    "\n",
    "%matplotlib inline"
   ]
  },
  {
   "cell_type": "code",
   "execution_count": 65,
   "metadata": {},
   "outputs": [],
   "source": [
    "def time_to_seconds(time: str) -> int:\n",
    "    h, m, s = map(int, time.split(':'))\n",
    "    return s + m*60 + h*3600"
   ]
  },
  {
   "cell_type": "code",
   "execution_count": 66,
   "metadata": {},
   "outputs": [],
   "source": [
    "def calc_angle(x1, y1, x2, y2, x3, y3):\n",
    "    v1 = ((x2-x1), (y2-y1))\n",
    "    v2 = ((x3-x2), (y3-y2))\n",
    "    sqrt1, sqrt2 = np.sqrt([v1[0]**2+v1[1]**2, v2[0]**2+v2[1]**2])\n",
    "    cos = (v1[0]*v2[0] + v1[1]*v2[1]) / (sqrt1*sqrt2)\n",
    "    return (cos + 1) / 2"
   ]
  },
  {
   "cell_type": "code",
   "execution_count": 67,
   "metadata": {},
   "outputs": [],
   "source": [
    "def calc_distance(x1, y1, x2, y2):\n",
    "    return math.sqrt((x2-x1)**2 + (y2-y1)**2)"
   ]
  },
  {
   "cell_type": "code",
   "execution_count": 82,
   "metadata": {},
   "outputs": [],
   "source": [
    "path = 'data\\BadTracksHackaton1801.txt'"
   ]
  },
  {
   "cell_type": "code",
   "execution_count": 83,
   "metadata": {},
   "outputs": [],
   "source": [
    "data = pd.read_csv(path, sep=' ', header=None, names=['time', 'id', 'latitude', 'longitude', 'elevation', 'code', 'name'])"
   ]
  },
  {
   "cell_type": "code",
   "execution_count": 84,
   "metadata": {},
   "outputs": [
    {
     "data": {
      "text/html": [
       "<div>\n",
       "<style scoped>\n",
       "    .dataframe tbody tr th:only-of-type {\n",
       "        vertical-align: middle;\n",
       "    }\n",
       "\n",
       "    .dataframe tbody tr th {\n",
       "        vertical-align: top;\n",
       "    }\n",
       "\n",
       "    .dataframe thead th {\n",
       "        text-align: right;\n",
       "    }\n",
       "</style>\n",
       "<table border=\"1\" class=\"dataframe\">\n",
       "  <thead>\n",
       "    <tr style=\"text-align: right;\">\n",
       "      <th></th>\n",
       "      <th>time</th>\n",
       "      <th>id</th>\n",
       "      <th>latitude</th>\n",
       "      <th>longitude</th>\n",
       "      <th>elevation</th>\n",
       "      <th>code</th>\n",
       "      <th>name</th>\n",
       "    </tr>\n",
       "  </thead>\n",
       "  <tbody>\n",
       "    <tr>\n",
       "      <th>0</th>\n",
       "      <td>0:00:01</td>\n",
       "      <td>8</td>\n",
       "      <td>49.722522</td>\n",
       "      <td>40.308650</td>\n",
       "      <td>11567</td>\n",
       "      <td>1025.0</td>\n",
       "      <td>TUM9102</td>\n",
       "    </tr>\n",
       "    <tr>\n",
       "      <th>1</th>\n",
       "      <td>0:00:11</td>\n",
       "      <td>8</td>\n",
       "      <td>49.737334</td>\n",
       "      <td>40.285857</td>\n",
       "      <td>11567</td>\n",
       "      <td>1025.0</td>\n",
       "      <td>TUM9102</td>\n",
       "    </tr>\n",
       "    <tr>\n",
       "      <th>2</th>\n",
       "      <td>0:00:21</td>\n",
       "      <td>8</td>\n",
       "      <td>49.752375</td>\n",
       "      <td>40.264201</td>\n",
       "      <td>11567</td>\n",
       "      <td>1025.0</td>\n",
       "      <td>TUM9102</td>\n",
       "    </tr>\n",
       "    <tr>\n",
       "      <th>3</th>\n",
       "      <td>0:00:31</td>\n",
       "      <td>8</td>\n",
       "      <td>49.767809</td>\n",
       "      <td>40.243869</td>\n",
       "      <td>11567</td>\n",
       "      <td>1025.0</td>\n",
       "      <td>TUM9102</td>\n",
       "    </tr>\n",
       "    <tr>\n",
       "      <th>4</th>\n",
       "      <td>0:00:41</td>\n",
       "      <td>8</td>\n",
       "      <td>49.785372</td>\n",
       "      <td>40.222412</td>\n",
       "      <td>11575</td>\n",
       "      <td>1025.0</td>\n",
       "      <td>TUM9102</td>\n",
       "    </tr>\n",
       "  </tbody>\n",
       "</table>\n",
       "</div>"
      ],
      "text/plain": [
       "      time  id   latitude  longitude  elevation    code     name\n",
       "0  0:00:01   8  49.722522  40.308650      11567  1025.0  TUM9102\n",
       "1  0:00:11   8  49.737334  40.285857      11567  1025.0  TUM9102\n",
       "2  0:00:21   8  49.752375  40.264201      11567  1025.0  TUM9102\n",
       "3  0:00:31   8  49.767809  40.243869      11567  1025.0  TUM9102\n",
       "4  0:00:41   8  49.785372  40.222412      11575  1025.0  TUM9102"
      ]
     },
     "execution_count": 84,
     "metadata": {},
     "output_type": "execute_result"
    }
   ],
   "source": [
    "data.head()"
   ]
  },
  {
   "cell_type": "code",
   "execution_count": 85,
   "metadata": {},
   "outputs": [],
   "source": [
    "data['time'] = data['time'].apply(time_to_seconds)"
   ]
  },
  {
   "cell_type": "code",
   "execution_count": 86,
   "metadata": {},
   "outputs": [
    {
     "data": {
      "text/plain": [
       "[[0.0008693655189359606,\n",
       "  2.099134345393234,\n",
       "  0.007952598817526559,\n",
       "  686.0,\n",
       "  9.711568560241744,\n",
       "  40,\n",
       "  9.611731843575418]]"
      ]
     },
     "execution_count": 86,
     "metadata": {},
     "output_type": "execute_result"
    }
   ],
   "source": [
    "grouped = data.groupby('id')\n",
    "grouped_features = []\n",
    "for track_id, track_data in grouped:\n",
    "    p_index = 0\n",
    "    min_angle = 2\n",
    "    max_z_speed = 0\n",
    "    avg_z_speed = 0\n",
    "    max_xy_speed = 0\n",
    "    avg_xy_speed = 0\n",
    "    max_time_diff = 0\n",
    "    avg_time_diff = (track_data.iloc[track_data.shape[0] - 1]['time'] - track_data.iloc[0]['time']) / track_data.shape[0]\n",
    "    for i in range(1, track_data.shape[0]):\n",
    "        time_diff = track_data.iloc[i]['time'] - track_data.iloc[i - 1]['time']\n",
    "        if(time_diff == 0):\n",
    "            time_diff = .001\n",
    "        if time_diff > max_time_diff:\n",
    "            max_time_diff = time_diff\n",
    "        \n",
    "        if i != track_data.shape[0] - 1:\n",
    "            angle = calc_angle(track_data.iloc[i - 1]['latitude'], track_data.iloc[i - 1]['longitude'], track_data.iloc[i]['latitude'],\n",
    "                               track_data.iloc[i]['longitude'], track_data.iloc[i + 1]['latitude'], track_data.iloc[i + 1]['longitude'])\n",
    "            if angle < min_angle:\n",
    "                min_angle = angle\n",
    "                p_index = i\n",
    "        \n",
    "        xy_speed = calc_distance(track_data.iloc[i - 1]['latitude'], track_data.iloc[i - 1]['longitude'], \n",
    "                                 track_data.iloc[i]['latitude'], track_data.iloc[i]['longitude']) / time_diff\n",
    "        if xy_speed > max_xy_speed:\n",
    "            max_xy_speed = xy_speed\n",
    "        avg_xy_speed += xy_speed\n",
    "        \n",
    "        z_speed = abs(track_data.iloc[i-1]['elevation'] - track_data.iloc[i]['elevation']) / time_diff\n",
    "        if z_speed > max_z_speed:\n",
    "            max_z_speed = z_speed\n",
    "        avg_z_speed += z_speed\n",
    "        \n",
    "    avg_xy_speed /= track_data.shape[0]\n",
    "    avg_z_speed /= track_data.shape[0]\n",
    "    grouped_features.append([min_angle, max_xy_speed, avg_xy_speed, max_z_speed, avg_z_speed, max_time_diff, avg_time_diff])\n",
    "    break\n",
    "grouped_features\n",
    "    "
   ]
  },
  {
   "cell_type": "code",
   "execution_count": null,
   "metadata": {},
   "outputs": [],
   "source": []
  }
 ],
 "metadata": {
  "kernelspec": {
   "display_name": "Python 3",
   "language": "python",
   "name": "python3"
  },
  "language_info": {
   "codemirror_mode": {
    "name": "ipython",
    "version": 3
   },
   "file_extension": ".py",
   "mimetype": "text/x-python",
   "name": "python",
   "nbconvert_exporter": "python",
   "pygments_lexer": "ipython3",
   "version": "3.8.8"
  }
 },
 "nbformat": 4,
 "nbformat_minor": 4
}
