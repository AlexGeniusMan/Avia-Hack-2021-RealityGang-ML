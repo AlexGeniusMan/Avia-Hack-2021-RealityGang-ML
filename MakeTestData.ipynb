{
 "cells": [
  {
   "cell_type": "code",
   "execution_count": 2,
   "metadata": {},
   "outputs": [],
   "source": [
    "import os\n",
    "import pandas as pd\n",
    "import numpy as np\n",
    "import matplotlib.pyplot as plt\n",
    "import math\n",
    "from sklearn.model_selection import train_test_split, cross_val_score, GridSearchCV\n",
    "from sklearn.metrics import accuracy_score\n",
    "from sklearn.tree import DecisionTreeClassifier\n",
    "from sklearn.ensemble import GradientBoostingClassifier\n",
    "import tensorflow as tf\n",
    "from tensorflow import keras\n",
    "from joblib import dump, load\n",
    "from preprocessing import get_features, time_to_seconds\n",
    "\n",
    "\n",
    "%matplotlib inline"
   ]
  },
  {
   "cell_type": "code",
   "execution_count": 3,
   "metadata": {},
   "outputs": [],
   "source": [
    "data = pd.read_csv(r'data\\BadTracksHackaton2101.txt', sep=' ', header=None, names=['time', 'id', 'latitude', 'longitude', 'elevation', 'code', 'name'])\n",
    "grouped = data.groupby('id')\n",
    "ids1 = list(grouped.groups.keys())[:50]\n",
    "data = pd.read_csv(r'data\\GoodTracksHackaton2101.txt', sep=' ', header=None, names=['time', 'id', 'latitude', 'longitude', 'elevation', 'code', 'name'])\n",
    "grouped = data.groupby('id')\n",
    "ids2 = list(grouped.groups.keys())[:50]\n",
    "\n",
    "out_file = \"\"\n",
    "with open(r'data\\BadTracksHackaton2101.txt', 'r') as f:\n",
    "    for line in f:\n",
    "        if not int(line.split(\" \")[1][1:-1]) in ids1:\n",
    "            break\n",
    "        out_file += line \n",
    "with open(r'data\\GoodTracksHackaton2101.txt', 'r') as f:\n",
    "    for line in f:\n",
    "        if not int(line.split(\" \")[1][1:-1]) in ids2:\n",
    "            break\n",
    "        out_file += line \n",
    "with open(r'test\\tmp.txt', 'w') as f:\n",
    "    f.write(out_file.strip())\n",
    "\n",
    "ids_all = sorted(ids1 + ids2)\n",
    "with open(r'test\\tmp_labels.txt', 'w') as f:\n",
    "    for id1 in ids_all:\n",
    "        if id1 in ids1:\n",
    "            f.write(str(id1) + \" 1\\n\")\n",
    "        else:\n",
    "            f.write(str(id1) + \" 0\\n\")"
   ]
  },
  {
   "cell_type": "code",
   "execution_count": null,
   "metadata": {},
   "outputs": [],
   "source": []
  }
 ],
 "metadata": {
  "kernelspec": {
   "name": "python379jvsc74a57bd075aa73c79266d4692a2df8ead62ea8bbacfe1ac0263c8d6d94a969dc4efeff59",
   "display_name": "Python 3.7.9 64-bit"
  },
  "language_info": {
   "codemirror_mode": {
    "name": "ipython",
    "version": 3
   },
   "file_extension": ".py",
   "mimetype": "text/x-python",
   "name": "python",
   "nbconvert_exporter": "python",
   "pygments_lexer": "ipython3",
   "version": "3.7.9"
  }
 },
 "nbformat": 4,
 "nbformat_minor": 4
}